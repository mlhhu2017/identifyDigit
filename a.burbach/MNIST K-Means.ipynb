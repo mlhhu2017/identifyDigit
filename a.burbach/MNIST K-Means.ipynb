{
 "cells": [
  {
   "cell_type": "code",
   "execution_count": 13,
   "metadata": {
    "collapsed": false
   },
   "outputs": [],
   "source": [
    "import os\n",
    "import struct\n",
    "import numpy as np"
   ]
  },
  {
   "cell_type": "code",
   "execution_count": 14,
   "metadata": {
    "collapsed": false
   },
   "outputs": [],
   "source": [
    "def read(dataset = \"training\", path = \".\"):\n",
    "\n",
    "    if dataset is \"training\":\n",
    "        fname_img = os.path.join(path, 'train-images.idx3-ubyte')\n",
    "        fname_lbl = os.path.join(path, 'train-labels.idx1-ubyte')\n",
    "    elif dataset is \"testing\":\n",
    "        fname_img = os.path.join(path, 't10k-images.idx3-ubyte')\n",
    "        fname_lbl = os.path.join(path, 't10k-labels.idx1-ubyte')\n",
    "    else:\n",
    "        raise ValueError(\"dataset must be 'testing' or 'training'\")\n",
    "\n",
    "    with open(fname_lbl, 'rb') as flbl:\n",
    "        magic, num = struct.unpack(\">II\", flbl.read(8))\n",
    "        lbl = np.fromfile(flbl, dtype=np.int8)\n",
    "\n",
    "    with open(fname_img, 'rb') as fimg:\n",
    "        magic, num, rows, cols = struct.unpack(\">IIII\", fimg.read(16))\n",
    "        img = np.fromfile(fimg, dtype=np.uint8).reshape(len(lbl), rows, cols)\n",
    "\n",
    "    return lbl, img"
   ]
  },
  {
   "cell_type": "code",
   "execution_count": 15,
   "metadata": {
    "collapsed": false
   },
   "outputs": [],
   "source": [
    "trainLbl, trainData = read()\n",
    "testLbl, testData = read('testing')"
   ]
  },
  {
   "cell_type": "code",
   "execution_count": 16,
   "metadata": {
    "collapsed": false
   },
   "outputs": [
    {
     "data": {
      "text/plain": [
       "(60000, 784)"
      ]
     },
     "execution_count": 16,
     "metadata": {},
     "output_type": "execute_result"
    }
   ],
   "source": [
    "np.ndarray.flatten(trainData[0])\n",
    "\n",
    "data = np.array([ np.ndarray.flatten(trainData[i]) for i in range(trainLbl.size)])\n",
    "data.shape"
   ]
  },
  {
   "cell_type": "code",
   "execution_count": 17,
   "metadata": {
    "collapsed": true
   },
   "outputs": [],
   "source": [
    "def getRandomPoints(data, n):\n",
    "    res = []\n",
    "    for i in range(0,n):\n",
    "        res.append(data[np.random.randint(0,data.shape[0])])\n",
    "    \n",
    "    return np.array(res);"
   ]
  },
  {
   "cell_type": "code",
   "execution_count": 18,
   "metadata": {
    "collapsed": true
   },
   "outputs": [],
   "source": [
    "def createClusters(means, data):\n",
    "    n = means.shape[0];\n",
    "    result = [];\n",
    "    for p in range(n):\n",
    "        result.append([]);\n",
    "    \n",
    "    for d in data:\n",
    "        arr = [];\n",
    "        for i in range(n):\n",
    "            arr.append(np.linalg.norm(d-means[i]))\n",
    "        arr = np.array(arr)\n",
    "        result[np.argmin(arr)].append(d);\n",
    "    \n",
    "    res = []\n",
    "    for q in range(0,n):\n",
    "        res.append(np.array(result[q]));\n",
    "        \n",
    "    return res;"
   ]
  },
  {
   "cell_type": "code",
   "execution_count": 19,
   "metadata": {
    "collapsed": true
   },
   "outputs": [],
   "source": [
    "def getMeans(V):\n",
    "    n = len(V)\n",
    "    result = [];\n",
    "    for i in range(n):\n",
    "        result.append(np.mean(V[i], axis=0));\n",
    "    \n",
    "    return np.array(result);"
   ]
  },
  {
   "cell_type": "code",
   "execution_count": 20,
   "metadata": {
    "collapsed": true
   },
   "outputs": [],
   "source": [
    "def kMeans(lbl, data, I = 1000, k = 10):\n",
    "    means = getRandomPoints(data, k)\n",
    "    \n",
    "    for i in range(I):\n",
    "        preMeans = means\n",
    "        V = createClusters(means,data)\n",
    "        means = getMeans(V);\n",
    "        print(i)\n",
    "        if np.array_equal(means, preMeans):\n",
    "            break;\n",
    "            \n",
    "    lblMeans = labelMeans(lbl, data , means)\n",
    "    \n",
    "    return means, lblMeans;"
   ]
  },
  {
   "cell_type": "code",
   "execution_count": 21,
   "metadata": {
    "collapsed": true
   },
   "outputs": [],
   "source": [
    "def getClusterID(point, means):\n",
    "    \n",
    "    clusters = createClusters(means, np.array(point))\n",
    "    \n",
    "    for i in range(means.shape[0]):\n",
    "        if clusters[i].size > 0:\n",
    "            return i;\n",
    "    \n",
    "    return -1;"
   ]
  },
  {
   "cell_type": "code",
   "execution_count": 22,
   "metadata": {
    "collapsed": false
   },
   "outputs": [],
   "source": [
    "def labelMeans(lbl, data, means):\n",
    "    \n",
    "    res = []\n",
    "    count = []\n",
    "    \n",
    "    for i in range(means.shape[0]):\n",
    "        res.append(0)\n",
    "        count.append(0)\n",
    "    \n",
    "    \n",
    "    for k in range(lbl.size):\n",
    "        c = getCluster(means, data[k])\n",
    "        count[c] += 1\n",
    "        res[c] += lbl[k]\n",
    "    \n",
    "    for i in range(len(res)):\n",
    "        res[i] /= count[i];\n",
    "        res[i] = round(res[i],0)\n",
    "    \n",
    "    return np.array(res)"
   ]
  },
  {
   "cell_type": "code",
   "execution_count": 23,
   "metadata": {
    "collapsed": true
   },
   "outputs": [],
   "source": [
    "def getCluster(means, data):\n",
    "    n = means.shape[0];\n",
    "    result = [];\n",
    "    for p in range(n):\n",
    "        result.append([]);\n",
    "    \n",
    "    arr = [];\n",
    "    for i in range(n):\n",
    "        arr.append(np.linalg.norm(data-means[i]))\n",
    "    arr = np.array(arr)\n",
    "    \n",
    "    return np.argmin(arr)"
   ]
  },
  {
   "cell_type": "code",
   "execution_count": 26,
   "metadata": {
    "collapsed": false
   },
   "outputs": [
    {
     "name": "stdout",
     "output_type": "stream",
     "text": [
      "0\n",
      "1\n",
      "2\n",
      "3\n",
      "4\n",
      "5\n",
      "6\n",
      "7\n",
      "8\n",
      "9\n",
      "10\n",
      "11\n",
      "12\n",
      "13\n",
      "14\n",
      "15\n",
      "16\n",
      "17\n",
      "18\n",
      "19\n",
      "20\n",
      "21\n",
      "22\n",
      "23\n",
      "24\n",
      "25\n",
      "26\n",
      "27\n",
      "28\n",
      "29\n",
      "30\n",
      "31\n",
      "32\n",
      "33\n",
      "34\n",
      "35\n",
      "36\n",
      "37\n",
      "38\n",
      "39\n"
     ]
    }
   ],
   "source": [
    " means, lblMeans = kMeans(trainLbl, data, 40, 100)"
   ]
  },
  {
   "cell_type": "code",
   "execution_count": 28,
   "metadata": {
    "collapsed": true
   },
   "outputs": [],
   "source": [
    "count = 0\n",
    "for i in range(testLbl.size):\n",
    "    num = getCluster(means, np.ndarray.flatten(testData[i]))\n",
    "    if lblMeans[num] != testLbl[i]:\n",
    "        count += 1"
   ]
  },
  {
   "cell_type": "code",
   "execution_count": 27,
   "metadata": {
    "collapsed": false
   },
   "outputs": [
    {
     "data": {
      "text/plain": [
       "array([ 7.,  5.,  0.,  0.,  8.,  6.,  6.,  2.,  9.,  2.,  2.,  4.,  5.,\n",
       "        6.,  2.,  6.,  5.,  3.,  4.,  3.,  7.,  5.,  6.,  7.,  0.,  3.,\n",
       "        4.,  7.,  8.,  4.,  3.,  6.,  8.,  3.,  0.,  2.,  3.,  5.,  4.,\n",
       "        3.,  0.,  5.,  2.,  2.,  6.,  7.,  8.,  3.,  6.,  3.,  7.,  3.,\n",
       "        5.,  6.,  0.,  0.,  4.,  1.,  6.,  7.,  2.,  1.,  4.,  5.,  0.,\n",
       "        7.,  8.,  5.,  8.,  2.,  5.,  6.,  9.,  7.,  6.,  6.,  7.,  0.,\n",
       "        4.,  0.,  1.,  7.,  8.,  7.,  2.,  5.,  1.,  6.,  2.,  7.,  1.,\n",
       "        6.,  8.,  6.,  6.,  5.,  8.,  5.,  1.,  0.])"
      ]
     },
     "execution_count": 27,
     "metadata": {},
     "output_type": "execute_result"
    }
   ],
   "source": [
    "lblMeans"
   ]
  },
  {
   "cell_type": "code",
   "execution_count": 29,
   "metadata": {
    "collapsed": false
   },
   "outputs": [
    {
     "data": {
      "text/plain": [
       "2364"
      ]
     },
     "execution_count": 29,
     "metadata": {},
     "output_type": "execute_result"
    }
   ],
   "source": [
    "count"
   ]
  },
  {
   "cell_type": "code",
   "execution_count": 34,
   "metadata": {
    "collapsed": true
   },
   "outputs": [],
   "source": [
    "error_rate = count / 10000 *100"
   ]
  },
  {
   "cell_type": "code",
   "execution_count": 35,
   "metadata": {
    "collapsed": false
   },
   "outputs": [
    {
     "data": {
      "text/plain": [
       "23.65"
      ]
     },
     "execution_count": 35,
     "metadata": {},
     "output_type": "execute_result"
    }
   ],
   "source": [
    "error_rate"
   ]
  },
  {
   "cell_type": "code",
   "execution_count": 39,
   "metadata": {
    "collapsed": true
   },
   "outputs": [],
   "source": [
    "def kMeans2(lbl, pre_means, data, I = 1000):\n",
    "    means = pre_means\n",
    "    \n",
    "    for i in range(I):\n",
    "        preMeans = means\n",
    "        V = createClusters(means,data)\n",
    "        means = getMeans(V);\n",
    "        print(i)\n",
    "        if np.array_equal(means, preMeans):\n",
    "            break;\n",
    "            \n",
    "    lblMeans = labelMeans(lbl, data , means)\n",
    "    \n",
    "    return means, lblMeans;"
   ]
  },
  {
   "cell_type": "code",
   "execution_count": 40,
   "metadata": {
    "collapsed": false
   },
   "outputs": [
    {
     "name": "stdout",
     "output_type": "stream",
     "text": [
      "0\n",
      "1\n",
      "2\n",
      "3\n",
      "4\n",
      "5\n",
      "6\n",
      "7\n",
      "8\n",
      "9\n",
      "10\n",
      "11\n",
      "12\n",
      "13\n",
      "14\n",
      "15\n",
      "16\n",
      "17\n",
      "18\n",
      "19\n",
      "20\n",
      "21\n",
      "22\n",
      "23\n",
      "24\n",
      "25\n",
      "26\n",
      "27\n",
      "28\n",
      "29\n",
      "30\n",
      "31\n",
      "32\n",
      "33\n",
      "34\n",
      "35\n",
      "36\n",
      "37\n",
      "38\n",
      "39\n"
     ]
    }
   ],
   "source": [
    " means, lblMeans = kMeans2(trainLbl, means, data, 40)"
   ]
  },
  {
   "cell_type": "code",
   "execution_count": 41,
   "metadata": {
    "collapsed": false
   },
   "outputs": [
    {
     "data": {
      "text/plain": [
       "array([ 7.,  5.,  0.,  0.,  8.,  6.,  6.,  2.,  9.,  2.,  2.,  4.,  5.,\n",
       "        6.,  2.,  6.,  5.,  3.,  4.,  3.,  7.,  5.,  6.,  7.,  0.,  3.,\n",
       "        4.,  8.,  7.,  4.,  3.,  7.,  8.,  3.,  0.,  2.,  3.,  5.,  4.,\n",
       "        3.,  0.,  5.,  2.,  2.,  6.,  7.,  8.,  3.,  6.,  3.,  6.,  3.,\n",
       "        5.,  6.,  0.,  0.,  4.,  1.,  6.,  7.,  2.,  1.,  4.,  5.,  0.,\n",
       "        7.,  8.,  5.,  8.,  2.,  5.,  6.,  9.,  7.,  6.,  5.,  7.,  0.,\n",
       "        4.,  0.,  1.,  7.,  8.,  7.,  2.,  5.,  1.,  6.,  2.,  7.,  2.,\n",
       "        6.,  8.,  6.,  6.,  5.,  8.,  5.,  1.,  0.])"
      ]
     },
     "execution_count": 41,
     "metadata": {},
     "output_type": "execute_result"
    }
   ],
   "source": [
    "lblMeans"
   ]
  },
  {
   "cell_type": "code",
   "execution_count": 42,
   "metadata": {
    "collapsed": true
   },
   "outputs": [],
   "source": [
    "count = 0\n",
    "for i in range(testLbl.size):\n",
    "    num = getCluster(means, np.ndarray.flatten(testData[i]))\n",
    "    if lblMeans[num] != testLbl[i]:\n",
    "        count += 1"
   ]
  },
  {
   "cell_type": "code",
   "execution_count": 43,
   "metadata": {
    "collapsed": false
   },
   "outputs": [
    {
     "data": {
      "text/plain": [
       "24.16"
      ]
     },
     "execution_count": 43,
     "metadata": {},
     "output_type": "execute_result"
    }
   ],
   "source": [
    "error_rate = count / 10000 *100\n",
    "error_rate"
   ]
  },
  {
   "cell_type": "code",
   "execution_count": null,
   "metadata": {
    "collapsed": true
   },
   "outputs": [],
   "source": []
  }
 ],
 "metadata": {
  "kernelspec": {
   "display_name": "Python 3",
   "language": "python",
   "name": "python3"
  },
  "language_info": {
   "codemirror_mode": {
    "name": "ipython",
    "version": 3
   },
   "file_extension": ".py",
   "mimetype": "text/x-python",
   "name": "python",
   "nbconvert_exporter": "python",
   "pygments_lexer": "ipython3",
   "version": "3.6.0"
  }
 },
 "nbformat": 4,
 "nbformat_minor": 2
}
