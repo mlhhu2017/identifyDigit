{
 "cells": [
  {
   "cell_type": "code",
   "execution_count": 11,
   "metadata": {
    "collapsed": false
   },
   "outputs": [],
   "source": [
    "import mnist_util as mu\n",
    "import numpy as np\n",
    "%matplotlib inline\n",
    "# importing training images and test images\n",
    "X_train, Y_train, X_test, Y_test = mu.get_np_array()\n",
    "\n",
    "\n"
   ]
  },
  {
   "cell_type": "code",
   "execution_count": 12,
   "metadata": {
    "collapsed": false
   },
   "outputs": [
    {
     "name": "stdout",
     "output_type": "stream",
     "text": [
      "Training data shape:  (60000, 784)\n",
      "Training labels shape:  (60000,)\n",
      "Test data shape:  (10000, 784)\n",
      "Test labels shape:  (10000,)\n"
     ]
    }
   ],
   "source": [
    "print('Training data shape: ', X_train.shape)\n",
    "print('Training labels shape: ', Y_train.shape)\n",
    "print('Test data shape: ', X_test.shape)\n",
    "print('Test labels shape: ', Y_test.shape)\n"
   ]
  },
  {
   "cell_type": "code",
   "execution_count": 13,
   "metadata": {
    "collapsed": false
   },
   "outputs": [
    {
     "name": "stdout",
     "output_type": "stream",
     "text": [
      "(60000, 784) (10000, 784)\n"
     ]
    }
   ],
   "source": [
    "# Reshape the image data into rows\n",
    "#X_train = np.reshape(X_train, (X_train.shape[0], -1))\n",
    "#X_test = np.reshape(X_test, (X_test.shape[0], -1))\n",
    "print(X_train.shape, X_test.shape)"
   ]
  },
  {
   "cell_type": "code",
   "execution_count": 14,
   "metadata": {
    "collapsed": false
   },
   "outputs": [
    {
     "name": "stdout",
     "output_type": "stream",
     "text": [
      "(5923, 784)\n",
      "(10, 500, 784)\n",
      "(5000, 784)\n",
      "(5000,)\n",
      "(7500, 784)\n",
      "(7500,)\n"
     ]
    }
   ],
   "source": [
    "splits= 500\n",
    "num_arrays = np.array(mu.get_all_nums(X_train, Y_train))\n",
    "print(num_arrays[0].shape)\n",
    "num=[np.array_split(num_arrays[i],splits) for i in range(10)]\n",
    "num=np.array(num)\n",
    "mean_data = [[np.mean(num[j][i], axis=0) for i in range(splits)] for j in range(10)]\n",
    "#[mu.show_nums(np.array(mean_data[i])[:splits], xsize=10, ysize=10) for i in range(10)]\n",
    "mean_label=np.tile(np.array(list(range(10))),(splits,1)).flatten(order='F')\n",
    "mean_data=np.array(mean_data)\n",
    "print(mean_data.shape)\n",
    "mean_data = mean_data.reshape(splits*10,784)\n",
    "print(mean_data.shape)\n",
    "print(mean_label.shape)\n",
    "splits_t = 250\n",
    "num_arrays_t = np.array(mu.get_all_nums(X_train, Y_train))\n",
    "from random import shuffle\n",
    "for i in range(10):\n",
    "    num_arrays[i]=np.array(shuffle(num_arrays_t[i]))\n",
    "num_t=[np.array_split(num_arrays_t[i],splits) for i in range(10)]\n",
    "num_t=np.array(num_t)\n",
    "mean_data_t = [[np.mean(num_t[j][i], axis=0) for i in range(splits_t)] for j in range(10)]\n",
    "mean_label_t=np.tile(np.array(list(range(10))),(splits_t,1)).flatten(order='F')\n",
    "mean_data_t=np.array(mean_data_t)\n",
    "mean_data_t = mean_data_t.reshape(splits_t*10,784)\n",
    "mean_data = np.append(mean_data,mean_data_t)\n",
    "mean_label = np.append(mean_label,mean_label_t)\n",
    "mean_data = mean_data.reshape((splits+splits_t)*10,784)\n",
    "print(mean_data.shape)\n",
    "print(mean_label.shape)\n"
   ]
  },
  {
   "cell_type": "code",
   "execution_count": null,
   "metadata": {
    "collapsed": false
   },
   "outputs": [
    {
     "name": "stdout",
     "output_type": "stream",
     "text": [
      "(10000, 7500)\n"
     ]
    }
   ],
   "source": [
    "from classifier.k_nearest_neighbor import KNearestNeighbor\n",
    "classifier = KNearestNeighbor()\n",
    "classifier.train(np.array(mean_data), np.array(mean_label))\n",
    "\n",
    "dists = classifier.compute_distances_no_loops(X_test)\n",
    "print(dists.shape)\n"
   ]
  },
  {
   "cell_type": "code",
   "execution_count": null,
   "metadata": {
    "collapsed": false
   },
   "outputs": [],
   "source": [
    "import matplotlib.pyplot as plt\n",
    "%matplotlib inline\n",
    "plt.rcParams['figure.figsize'] = (10.0, 8.0) # set default size of plots\n",
    "plt.rcParams['image.interpolation'] = 'nearest'\n",
    "plt.rcParams['image.cmap'] = 'gray'\n",
    "\n",
    "plt.imshow(dists, interpolation='none')\n",
    "plt.show()\n"
   ]
  },
  {
   "cell_type": "code",
   "execution_count": null,
   "metadata": {
    "collapsed": false
   },
   "outputs": [],
   "source": [
    "Y_test_pred = classifier.predict_labels(dists, k=1)\n",
    "\n",
    "# Compute and print the fraction of correctly predicted examples\n",
    "num_correct = np.sum(Y_test_pred == Y_test)\n",
    "accuracy = float(num_correct) / len(Y_test)\n",
    "print('Got %d / %d correct => accuracy: %f' % (num_correct, len(Y_test), accuracy))"
   ]
  },
  {
   "cell_type": "code",
   "execution_count": null,
   "metadata": {
    "collapsed": false
   },
   "outputs": [],
   "source": [
    "#print images predicted wrong\n",
    "nums=[]\n",
    "numslabel=[]\n",
    "for i in range(Y_test.size):\n",
    "        if(Y_test[i]!=Y_test_pred[i] and Y_test[i]==4):\n",
    "            nums.append(X_test[i])\n",
    "            numslabel.append(Y_test_pred[i])\n",
    "print(np.array(nums).shape)\n",
    "print(numslabel)\n",
    "mu.show_nums(np.array(nums))"
   ]
  },
  {
   "cell_type": "code",
   "execution_count": null,
   "metadata": {
    "collapsed": false
   },
   "outputs": [],
   "source": [
    "k_choices = [1, 2, 3, 4, 5, 6, 7, 8, 9, 10, 12, 15, 20, 50]\n",
    "from sklearn.metrics import confusion_matrix\n",
    "counter=0\n",
    "cm=np.empty([18,10,10],dtype=np.int32)\n",
    "for k in k_choices:\n",
    "    Y_test_pred = classifier.predict_labels(dists, k=k)\n",
    "    num_correct = np.sum(Y_test_pred == Y_test)\n",
    "    accuracy = float(num_correct) / len(Y_test)\n",
    "    print('for %d Got %d / %d correct => accuracy: %f' % (k,num_correct, len(Y_test), accuracy))\n",
    "    cm[counter] = confusion_matrix(Y_test, Y_test_pred)\n",
    "    counter=counter+1"
   ]
  },
  {
   "cell_type": "code",
   "execution_count": null,
   "metadata": {
    "collapsed": false
   },
   "outputs": [],
   "source": [
    "mu.plot_confusion_matrix(cm[0], title='Confusion Matrix',classes=np.arange(10))"
   ]
  },
  {
   "cell_type": "code",
   "execution_count": null,
   "metadata": {
    "collapsed": true
   },
   "outputs": [],
   "source": []
  },
  {
   "cell_type": "code",
   "execution_count": null,
   "metadata": {
    "collapsed": true
   },
   "outputs": [],
   "source": []
  }
 ],
 "metadata": {
  "kernelspec": {
   "display_name": "Python 3",
   "language": "python",
   "name": "python3"
  },
  "language_info": {
   "codemirror_mode": {
    "name": "ipython",
    "version": 3
   },
   "file_extension": ".py",
   "mimetype": "text/x-python",
   "name": "python",
   "nbconvert_exporter": "python",
   "pygments_lexer": "ipython3",
   "version": "3.5.2"
  }
 },
 "nbformat": 4,
 "nbformat_minor": 0
}
